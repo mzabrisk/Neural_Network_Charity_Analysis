{
  "cells": [
    {
      "cell_type": "code",
      "execution_count": 18,
      "metadata": {
        "colab": {
          "base_uri": "https://localhost:8080/",
          "height": 496
        },
        "id": "S7dQ6L56Hl10",
        "outputId": "4992e132-ac0b-4784-ad0b-a5089c33e917"
      },
      "outputs": [
        {
          "data": {
            "text/html": [
              "<div>\n",
              "<style scoped>\n",
              "    .dataframe tbody tr th:only-of-type {\n",
              "        vertical-align: middle;\n",
              "    }\n",
              "\n",
              "    .dataframe tbody tr th {\n",
              "        vertical-align: top;\n",
              "    }\n",
              "\n",
              "    .dataframe thead th {\n",
              "        text-align: right;\n",
              "    }\n",
              "</style>\n",
              "<table border=\"1\" class=\"dataframe\">\n",
              "  <thead>\n",
              "    <tr style=\"text-align: right;\">\n",
              "      <th></th>\n",
              "      <th>EIN</th>\n",
              "      <th>NAME</th>\n",
              "      <th>APPLICATION_TYPE</th>\n",
              "      <th>AFFILIATION</th>\n",
              "      <th>CLASSIFICATION</th>\n",
              "      <th>USE_CASE</th>\n",
              "      <th>ORGANIZATION</th>\n",
              "      <th>STATUS</th>\n",
              "      <th>INCOME_AMT</th>\n",
              "      <th>SPECIAL_CONSIDERATIONS</th>\n",
              "      <th>ASK_AMT</th>\n",
              "      <th>IS_SUCCESSFUL</th>\n",
              "    </tr>\n",
              "  </thead>\n",
              "  <tbody>\n",
              "    <tr>\n",
              "      <th>0</th>\n",
              "      <td>10520599</td>\n",
              "      <td>BLUE KNIGHTS MOTORCYCLE CLUB</td>\n",
              "      <td>T10</td>\n",
              "      <td>Independent</td>\n",
              "      <td>C1000</td>\n",
              "      <td>ProductDev</td>\n",
              "      <td>Association</td>\n",
              "      <td>1</td>\n",
              "      <td>0</td>\n",
              "      <td>N</td>\n",
              "      <td>5000</td>\n",
              "      <td>1</td>\n",
              "    </tr>\n",
              "    <tr>\n",
              "      <th>1</th>\n",
              "      <td>10531628</td>\n",
              "      <td>AMERICAN CHESAPEAKE CLUB CHARITABLE TR</td>\n",
              "      <td>T3</td>\n",
              "      <td>Independent</td>\n",
              "      <td>C2000</td>\n",
              "      <td>Preservation</td>\n",
              "      <td>Co-operative</td>\n",
              "      <td>1</td>\n",
              "      <td>1-9999</td>\n",
              "      <td>N</td>\n",
              "      <td>108590</td>\n",
              "      <td>1</td>\n",
              "    </tr>\n",
              "    <tr>\n",
              "      <th>2</th>\n",
              "      <td>10547893</td>\n",
              "      <td>ST CLOUD PROFESSIONAL FIREFIGHTERS</td>\n",
              "      <td>T5</td>\n",
              "      <td>CompanySponsored</td>\n",
              "      <td>C3000</td>\n",
              "      <td>ProductDev</td>\n",
              "      <td>Association</td>\n",
              "      <td>1</td>\n",
              "      <td>0</td>\n",
              "      <td>N</td>\n",
              "      <td>5000</td>\n",
              "      <td>0</td>\n",
              "    </tr>\n",
              "    <tr>\n",
              "      <th>3</th>\n",
              "      <td>10553066</td>\n",
              "      <td>SOUTHSIDE ATHLETIC ASSOCIATION</td>\n",
              "      <td>T3</td>\n",
              "      <td>CompanySponsored</td>\n",
              "      <td>C2000</td>\n",
              "      <td>Preservation</td>\n",
              "      <td>Trust</td>\n",
              "      <td>1</td>\n",
              "      <td>10000-24999</td>\n",
              "      <td>N</td>\n",
              "      <td>6692</td>\n",
              "      <td>1</td>\n",
              "    </tr>\n",
              "    <tr>\n",
              "      <th>4</th>\n",
              "      <td>10556103</td>\n",
              "      <td>GENETIC RESEARCH INSTITUTE OF THE DESERT</td>\n",
              "      <td>T3</td>\n",
              "      <td>Independent</td>\n",
              "      <td>C1000</td>\n",
              "      <td>Heathcare</td>\n",
              "      <td>Trust</td>\n",
              "      <td>1</td>\n",
              "      <td>100000-499999</td>\n",
              "      <td>N</td>\n",
              "      <td>142590</td>\n",
              "      <td>1</td>\n",
              "    </tr>\n",
              "  </tbody>\n",
              "</table>\n",
              "</div>"
            ],
            "text/plain": [
              "        EIN                                      NAME APPLICATION_TYPE  \\\n",
              "0  10520599              BLUE KNIGHTS MOTORCYCLE CLUB              T10   \n",
              "1  10531628    AMERICAN CHESAPEAKE CLUB CHARITABLE TR               T3   \n",
              "2  10547893        ST CLOUD PROFESSIONAL FIREFIGHTERS               T5   \n",
              "3  10553066            SOUTHSIDE ATHLETIC ASSOCIATION               T3   \n",
              "4  10556103  GENETIC RESEARCH INSTITUTE OF THE DESERT               T3   \n",
              "\n",
              "        AFFILIATION CLASSIFICATION      USE_CASE  ORGANIZATION  STATUS  \\\n",
              "0       Independent          C1000    ProductDev   Association       1   \n",
              "1       Independent          C2000  Preservation  Co-operative       1   \n",
              "2  CompanySponsored          C3000    ProductDev   Association       1   \n",
              "3  CompanySponsored          C2000  Preservation         Trust       1   \n",
              "4       Independent          C1000     Heathcare         Trust       1   \n",
              "\n",
              "      INCOME_AMT SPECIAL_CONSIDERATIONS  ASK_AMT  IS_SUCCESSFUL  \n",
              "0              0                      N     5000              1  \n",
              "1         1-9999                      N   108590              1  \n",
              "2              0                      N     5000              0  \n",
              "3    10000-24999                      N     6692              1  \n",
              "4  100000-499999                      N   142590              1  "
            ]
          },
          "execution_count": 18,
          "metadata": {},
          "output_type": "execute_result"
        }
      ],
      "source": [
        "# Import our dependencies\n",
        "from sklearn.model_selection import train_test_split\n",
        "from sklearn.preprocessing import StandardScaler,OneHotEncoder\n",
        "import pandas as pd\n",
        "import tensorflow as tf\n",
        "\n",
        "#  Import and read the charity_data.csv.\n",
        "import pandas as pd \n",
        "application_df = pd.read_csv(\"Resources/charity_data.csv\")\n",
        "\n",
        "application_df_original = application_df\n",
        "application_df.head()"
      ]
    },
    {
      "cell_type": "code",
      "execution_count": 19,
      "metadata": {
        "colab": {
          "base_uri": "https://localhost:8080/",
          "height": 505
        },
        "id": "IH8DLQzcHl11",
        "outputId": "33ad13f1-ea2a-4700-e9bd-8e54c5a1c715"
      },
      "outputs": [
        {
          "data": {
            "text/plain": [
              "EIN                       34299\n",
              "NAME                      19568\n",
              "APPLICATION_TYPE             17\n",
              "AFFILIATION                   6\n",
              "CLASSIFICATION               71\n",
              "USE_CASE                      5\n",
              "ORGANIZATION                  4\n",
              "STATUS                        2\n",
              "INCOME_AMT                    9\n",
              "SPECIAL_CONSIDERATIONS        2\n",
              "ASK_AMT                    8747\n",
              "IS_SUCCESSFUL                 2\n",
              "dtype: int64"
            ]
          },
          "execution_count": 19,
          "metadata": {},
          "output_type": "execute_result"
        }
      ],
      "source": [
        "# Drop the non-beneficial ID columns, 'EIN' and 'NAME'.\n",
        "# DON'T DROP NAME COLUMN???\n",
        "\n",
        "application_df.nunique()"
      ]
    },
    {
      "cell_type": "code",
      "execution_count": 20,
      "metadata": {},
      "outputs": [
        {
          "data": {
            "text/html": [
              "<div>\n",
              "<style scoped>\n",
              "    .dataframe tbody tr th:only-of-type {\n",
              "        vertical-align: middle;\n",
              "    }\n",
              "\n",
              "    .dataframe tbody tr th {\n",
              "        vertical-align: top;\n",
              "    }\n",
              "\n",
              "    .dataframe thead th {\n",
              "        text-align: right;\n",
              "    }\n",
              "</style>\n",
              "<table border=\"1\" class=\"dataframe\">\n",
              "  <thead>\n",
              "    <tr style=\"text-align: right;\">\n",
              "      <th></th>\n",
              "      <th>NAME</th>\n",
              "      <th>APPLICATION_TYPE</th>\n",
              "      <th>AFFILIATION</th>\n",
              "      <th>CLASSIFICATION</th>\n",
              "      <th>USE_CASE</th>\n",
              "      <th>ORGANIZATION</th>\n",
              "      <th>STATUS</th>\n",
              "      <th>INCOME_AMT</th>\n",
              "      <th>SPECIAL_CONSIDERATIONS</th>\n",
              "      <th>ASK_AMT</th>\n",
              "      <th>IS_SUCCESSFUL</th>\n",
              "    </tr>\n",
              "  </thead>\n",
              "  <tbody>\n",
              "    <tr>\n",
              "      <th>0</th>\n",
              "      <td>BLUE KNIGHTS MOTORCYCLE CLUB</td>\n",
              "      <td>T10</td>\n",
              "      <td>Independent</td>\n",
              "      <td>C1000</td>\n",
              "      <td>ProductDev</td>\n",
              "      <td>Association</td>\n",
              "      <td>1</td>\n",
              "      <td>0</td>\n",
              "      <td>N</td>\n",
              "      <td>5000</td>\n",
              "      <td>1</td>\n",
              "    </tr>\n",
              "    <tr>\n",
              "      <th>1</th>\n",
              "      <td>AMERICAN CHESAPEAKE CLUB CHARITABLE TR</td>\n",
              "      <td>T3</td>\n",
              "      <td>Independent</td>\n",
              "      <td>C2000</td>\n",
              "      <td>Preservation</td>\n",
              "      <td>Co-operative</td>\n",
              "      <td>1</td>\n",
              "      <td>1-9999</td>\n",
              "      <td>N</td>\n",
              "      <td>108590</td>\n",
              "      <td>1</td>\n",
              "    </tr>\n",
              "    <tr>\n",
              "      <th>2</th>\n",
              "      <td>ST CLOUD PROFESSIONAL FIREFIGHTERS</td>\n",
              "      <td>T5</td>\n",
              "      <td>CompanySponsored</td>\n",
              "      <td>C3000</td>\n",
              "      <td>ProductDev</td>\n",
              "      <td>Association</td>\n",
              "      <td>1</td>\n",
              "      <td>0</td>\n",
              "      <td>N</td>\n",
              "      <td>5000</td>\n",
              "      <td>0</td>\n",
              "    </tr>\n",
              "    <tr>\n",
              "      <th>3</th>\n",
              "      <td>SOUTHSIDE ATHLETIC ASSOCIATION</td>\n",
              "      <td>T3</td>\n",
              "      <td>CompanySponsored</td>\n",
              "      <td>C2000</td>\n",
              "      <td>Preservation</td>\n",
              "      <td>Trust</td>\n",
              "      <td>1</td>\n",
              "      <td>10000-24999</td>\n",
              "      <td>N</td>\n",
              "      <td>6692</td>\n",
              "      <td>1</td>\n",
              "    </tr>\n",
              "    <tr>\n",
              "      <th>4</th>\n",
              "      <td>GENETIC RESEARCH INSTITUTE OF THE DESERT</td>\n",
              "      <td>T3</td>\n",
              "      <td>Independent</td>\n",
              "      <td>C1000</td>\n",
              "      <td>Heathcare</td>\n",
              "      <td>Trust</td>\n",
              "      <td>1</td>\n",
              "      <td>100000-499999</td>\n",
              "      <td>N</td>\n",
              "      <td>142590</td>\n",
              "      <td>1</td>\n",
              "    </tr>\n",
              "    <tr>\n",
              "      <th>...</th>\n",
              "      <td>...</td>\n",
              "      <td>...</td>\n",
              "      <td>...</td>\n",
              "      <td>...</td>\n",
              "      <td>...</td>\n",
              "      <td>...</td>\n",
              "      <td>...</td>\n",
              "      <td>...</td>\n",
              "      <td>...</td>\n",
              "      <td>...</td>\n",
              "      <td>...</td>\n",
              "    </tr>\n",
              "    <tr>\n",
              "      <th>34294</th>\n",
              "      <td>THE LIONS CLUB OF HONOLULU KAMEHAMEHA</td>\n",
              "      <td>T4</td>\n",
              "      <td>Independent</td>\n",
              "      <td>C1000</td>\n",
              "      <td>ProductDev</td>\n",
              "      <td>Association</td>\n",
              "      <td>1</td>\n",
              "      <td>0</td>\n",
              "      <td>N</td>\n",
              "      <td>5000</td>\n",
              "      <td>0</td>\n",
              "    </tr>\n",
              "    <tr>\n",
              "      <th>34295</th>\n",
              "      <td>INTERNATIONAL ASSOCIATION OF LIONS CLUBS</td>\n",
              "      <td>T4</td>\n",
              "      <td>CompanySponsored</td>\n",
              "      <td>C3000</td>\n",
              "      <td>ProductDev</td>\n",
              "      <td>Association</td>\n",
              "      <td>1</td>\n",
              "      <td>0</td>\n",
              "      <td>N</td>\n",
              "      <td>5000</td>\n",
              "      <td>0</td>\n",
              "    </tr>\n",
              "    <tr>\n",
              "      <th>34296</th>\n",
              "      <td>PTA HAWAII CONGRESS</td>\n",
              "      <td>T3</td>\n",
              "      <td>CompanySponsored</td>\n",
              "      <td>C2000</td>\n",
              "      <td>Preservation</td>\n",
              "      <td>Association</td>\n",
              "      <td>1</td>\n",
              "      <td>0</td>\n",
              "      <td>N</td>\n",
              "      <td>5000</td>\n",
              "      <td>0</td>\n",
              "    </tr>\n",
              "    <tr>\n",
              "      <th>34297</th>\n",
              "      <td>AMERICAN FEDERATION OF GOVERNMENT EMPLOYEES LO...</td>\n",
              "      <td>T5</td>\n",
              "      <td>Independent</td>\n",
              "      <td>C3000</td>\n",
              "      <td>ProductDev</td>\n",
              "      <td>Association</td>\n",
              "      <td>1</td>\n",
              "      <td>0</td>\n",
              "      <td>N</td>\n",
              "      <td>5000</td>\n",
              "      <td>1</td>\n",
              "    </tr>\n",
              "    <tr>\n",
              "      <th>34298</th>\n",
              "      <td>WATERHOUSE CHARITABLE TR</td>\n",
              "      <td>T3</td>\n",
              "      <td>Independent</td>\n",
              "      <td>C1000</td>\n",
              "      <td>Preservation</td>\n",
              "      <td>Co-operative</td>\n",
              "      <td>1</td>\n",
              "      <td>1M-5M</td>\n",
              "      <td>N</td>\n",
              "      <td>36500179</td>\n",
              "      <td>0</td>\n",
              "    </tr>\n",
              "  </tbody>\n",
              "</table>\n",
              "<p>34299 rows × 11 columns</p>\n",
              "</div>"
            ],
            "text/plain": [
              "                                                    NAME APPLICATION_TYPE  \\\n",
              "0                           BLUE KNIGHTS MOTORCYCLE CLUB              T10   \n",
              "1                 AMERICAN CHESAPEAKE CLUB CHARITABLE TR               T3   \n",
              "2                     ST CLOUD PROFESSIONAL FIREFIGHTERS               T5   \n",
              "3                         SOUTHSIDE ATHLETIC ASSOCIATION               T3   \n",
              "4               GENETIC RESEARCH INSTITUTE OF THE DESERT               T3   \n",
              "...                                                  ...              ...   \n",
              "34294              THE LIONS CLUB OF HONOLULU KAMEHAMEHA               T4   \n",
              "34295           INTERNATIONAL ASSOCIATION OF LIONS CLUBS               T4   \n",
              "34296                                PTA HAWAII CONGRESS               T3   \n",
              "34297  AMERICAN FEDERATION OF GOVERNMENT EMPLOYEES LO...               T5   \n",
              "34298                           WATERHOUSE CHARITABLE TR               T3   \n",
              "\n",
              "            AFFILIATION CLASSIFICATION      USE_CASE  ORGANIZATION  STATUS  \\\n",
              "0           Independent          C1000    ProductDev   Association       1   \n",
              "1           Independent          C2000  Preservation  Co-operative       1   \n",
              "2      CompanySponsored          C3000    ProductDev   Association       1   \n",
              "3      CompanySponsored          C2000  Preservation         Trust       1   \n",
              "4           Independent          C1000     Heathcare         Trust       1   \n",
              "...                 ...            ...           ...           ...     ...   \n",
              "34294       Independent          C1000    ProductDev   Association       1   \n",
              "34295  CompanySponsored          C3000    ProductDev   Association       1   \n",
              "34296  CompanySponsored          C2000  Preservation   Association       1   \n",
              "34297       Independent          C3000    ProductDev   Association       1   \n",
              "34298       Independent          C1000  Preservation  Co-operative       1   \n",
              "\n",
              "          INCOME_AMT SPECIAL_CONSIDERATIONS   ASK_AMT  IS_SUCCESSFUL  \n",
              "0                  0                      N      5000              1  \n",
              "1             1-9999                      N    108590              1  \n",
              "2                  0                      N      5000              0  \n",
              "3        10000-24999                      N      6692              1  \n",
              "4      100000-499999                      N    142590              1  \n",
              "...              ...                    ...       ...            ...  \n",
              "34294              0                      N      5000              0  \n",
              "34295              0                      N      5000              0  \n",
              "34296              0                      N      5000              0  \n",
              "34297              0                      N      5000              1  \n",
              "34298          1M-5M                      N  36500179              0  \n",
              "\n",
              "[34299 rows x 11 columns]"
            ]
          },
          "execution_count": 20,
          "metadata": {},
          "output_type": "execute_result"
        }
      ],
      "source": [
        "# drop EIN column\n",
        "application_df = application_df.drop(columns='EIN')\n",
        "application_df"
      ]
    },
    {
      "cell_type": "code",
      "execution_count": 21,
      "metadata": {},
      "outputs": [
        {
          "data": {
            "text/plain": [
              "PARENT BOOSTER USA INC                                                  1260\n",
              "TOPS CLUB INC                                                            765\n",
              "UNITED STATES BOWLING CONGRESS INC                                       700\n",
              "WASHINGTON STATE UNIVERSITY                                              492\n",
              "AMATEUR ATHLETIC UNION OF THE UNITED STATES INC                          408\n",
              "                                                                        ... \n",
              "ST LOUIS SLAM WOMENS FOOTBALL                                              1\n",
              "AIESEC ALUMNI IBEROAMERICA CORP                                            1\n",
              "WEALLBLEEDRED ORG INC                                                      1\n",
              "AMERICAN SOCIETY FOR STANDARDS IN MEDIUMSHIP & PSYCHICAL INVESTIGATI       1\n",
              "WATERHOUSE CHARITABLE TR                                                   1\n",
              "Name: NAME, Length: 19568, dtype: int64"
            ]
          },
          "execution_count": 21,
          "metadata": {},
          "output_type": "execute_result"
        }
      ],
      "source": [
        "# Look at NAME count to determine if stratifying is needed\n",
        "name_count = application_df.NAME.value_counts()\n",
        "name_count"
      ]
    },
    {
      "cell_type": "code",
      "execution_count": 22,
      "metadata": {},
      "outputs": [
        {
          "data": {
            "text/plain": [
              "Other                                      21022\n",
              "PARENT BOOSTER USA INC                      1260\n",
              "TOPS CLUB INC                                765\n",
              "UNITED STATES BOWLING CONGRESS INC           700\n",
              "WASHINGTON STATE UNIVERSITY                  492\n",
              "                                           ...  \n",
              "CASCADE 4-H FOUNDATION                        10\n",
              "FREE & ACCEPTED MASONS OF WASHINGTON          10\n",
              "NEW MEXICO GARDEN CLUBS INC                   10\n",
              "NATIONAL ASSOCIATION OF HISPANIC NURSES       10\n",
              "UNION OF CALIFORNIA STATE WORKERS             10\n",
              "Name: NAME, Length: 223, dtype: int64"
            ]
          },
          "execution_count": 22,
          "metadata": {},
          "output_type": "execute_result"
        }
      ],
      "source": [
        "# Determine which values to replace if counts are less than ..?\n",
        "replace_name = list(name_count[name_count<10].index)\n",
        "\n",
        "# Replace in dataframe\n",
        "for t in replace_name:\n",
        "    application_df.NAME = application_df.NAME.replace(t,\"Other\")\n",
        "    \n",
        "# Check to make sure binning was successful\n",
        "application_df.NAME.value_counts()"
      ]
    },
    {
      "cell_type": "code",
      "execution_count": 23,
      "metadata": {},
      "outputs": [
        {
          "data": {
            "text/plain": [
              "1    18261\n",
              "0    16038\n",
              "Name: IS_SUCCESSFUL, dtype: int64"
            ]
          },
          "execution_count": 23,
          "metadata": {},
          "output_type": "execute_result"
        }
      ],
      "source": [
        "# Look at SUCCESS count to determine if stratifying is needed\n",
        "type_count = application_df.IS_SUCCESSFUL.value_counts()\n",
        "type_count"
      ]
    },
    {
      "cell_type": "code",
      "execution_count": 24,
      "metadata": {
        "colab": {
          "base_uri": "https://localhost:8080/"
        },
        "id": "QWvTGv9FDvTQ",
        "outputId": "38649f9f-c48e-482d-c997-9fce4f10ff84"
      },
      "outputs": [
        {
          "data": {
            "text/plain": [
              "T3     27037\n",
              "T4      1542\n",
              "T6      1216\n",
              "T5      1173\n",
              "T19     1065\n",
              "T8       737\n",
              "T7       725\n",
              "T10      528\n",
              "T9       156\n",
              "T13       66\n",
              "T12       27\n",
              "T2        16\n",
              "T25        3\n",
              "T14        3\n",
              "T29        2\n",
              "T15        2\n",
              "T17        1\n",
              "Name: APPLICATION_TYPE, dtype: int64"
            ]
          },
          "execution_count": 24,
          "metadata": {},
          "output_type": "execute_result"
        }
      ],
      "source": [
        "# Look at APPLICATION TYPE value counts for binning\n",
        "type_count = application_df.APPLICATION_TYPE.value_counts()\n",
        "type_count"
      ]
    },
    {
      "cell_type": "code",
      "execution_count": 25,
      "metadata": {
        "colab": {
          "base_uri": "https://localhost:8080/"
        },
        "id": "Jcxl1jrLDsvU",
        "outputId": "f3ead78c-9de5-4e93-9897-f2ec51b13090"
      },
      "outputs": [
        {
          "data": {
            "text/plain": [
              "T3       27037\n",
              "Other     2266\n",
              "T4        1542\n",
              "T6        1216\n",
              "T5        1173\n",
              "T19       1065\n",
              "Name: APPLICATION_TYPE, dtype: int64"
            ]
          },
          "execution_count": 25,
          "metadata": {},
          "output_type": "execute_result"
        }
      ],
      "source": [
        "# Determine which values to replace if counts are less than ..?\n",
        "replace_type = list(type_count[type_count<1000].index)\n",
        "\n",
        "# Replace in dataframe\n",
        "for t in replace_type:\n",
        "    application_df.APPLICATION_TYPE = application_df.APPLICATION_TYPE.replace(t,\"Other\")\n",
        "    \n",
        "# Check to make sure binning was successful\n",
        "application_df.APPLICATION_TYPE.value_counts()"
      ]
    },
    {
      "cell_type": "code",
      "execution_count": 26,
      "metadata": {
        "colab": {
          "base_uri": "https://localhost:8080/"
        },
        "id": "D7YgFC_IHl12",
        "outputId": "782d39e3-fd08-464c-a12b-3f847fb79942"
      },
      "outputs": [
        {
          "data": {
            "text/plain": [
              "C1000    17326\n",
              "C2000     6074\n",
              "C1200     4837\n",
              "C3000     1918\n",
              "C2100     1883\n",
              "         ...  \n",
              "C4120        1\n",
              "C8210        1\n",
              "C2561        1\n",
              "C4500        1\n",
              "C2150        1\n",
              "Name: CLASSIFICATION, Length: 71, dtype: int64"
            ]
          },
          "execution_count": 26,
          "metadata": {},
          "output_type": "execute_result"
        }
      ],
      "source": [
        "# Look at CLASSIFICATION value counts for binning\n",
        "classification_count = application_df.CLASSIFICATION.value_counts()\n",
        "classification_count"
      ]
    },
    {
      "cell_type": "code",
      "execution_count": 27,
      "metadata": {
        "colab": {
          "base_uri": "https://localhost:8080/"
        },
        "id": "VDOjruolHl12",
        "outputId": "fb5d172d-0acc-4c28-e069-6b73e5edb142"
      },
      "outputs": [
        {
          "data": {
            "text/plain": [
              "C1000    17326\n",
              "C2000     6074\n",
              "C1200     4837\n",
              "C3000     1918\n",
              "C2100     1883\n",
              "Other     1484\n",
              "C7000      777\n",
              "Name: CLASSIFICATION, dtype: int64"
            ]
          },
          "execution_count": 27,
          "metadata": {},
          "output_type": "execute_result"
        }
      ],
      "source": [
        "# Determine which values to replace if counts are less than ..?\n",
        "replace_class = list(classification_count[classification_count<500].index)\n",
        "\n",
        "# Replace in dataframe\n",
        "for cls in replace_class:\n",
        "    application_df.CLASSIFICATION = application_df.CLASSIFICATION.replace(cls,\"Other\")\n",
        "    \n",
        "# Check to make sure binning was successful\n",
        "application_df.CLASSIFICATION.value_counts()"
      ]
    },
    {
      "cell_type": "code",
      "execution_count": 28,
      "metadata": {
        "colab": {
          "base_uri": "https://localhost:8080/"
        },
        "id": "jf8K4V2Wz1hY",
        "outputId": "4509dcec-0e1d-4113-b631-004b71443f3c"
      },
      "outputs": [
        {
          "data": {
            "text/plain": [
              "0                24388\n",
              "25000-99999       3747\n",
              "100000-499999     3374\n",
              "1M-5M              955\n",
              "1-9999             728\n",
              "10000-24999        543\n",
              "10M-50M            240\n",
              "5M-10M             185\n",
              "50M+               139\n",
              "Name: INCOME_AMT, dtype: int64"
            ]
          },
          "execution_count": 28,
          "metadata": {},
          "output_type": "execute_result"
        }
      ],
      "source": [
        "income_count = application_df.INCOME_AMT.value_counts()\n",
        "income_count"
      ]
    },
    {
      "cell_type": "code",
      "execution_count": 29,
      "metadata": {},
      "outputs": [
        {
          "name": "stderr",
          "output_type": "stream",
          "text": [
            "/Users/mattzabriskie/miniconda3/envs/mlenv_forge/lib/python3.8/site-packages/sklearn/preprocessing/_encoders.py:868: FutureWarning: `sparse` was renamed to `sparse_output` in version 1.2 and will be removed in 1.4. `sparse_output` is ignored unless you leave `sparse` to its default value.\n",
            "  warnings.warn(\n"
          ]
        }
      ],
      "source": [
        "# Encoding the 'object' type variables\n",
        "cat_var = application_df.dtypes[application_df.dtypes == 'object'].index.tolist()\n",
        "\n",
        "enc = OneHotEncoder(sparse=False)\n",
        "\n",
        "encode_df = pd.DataFrame(enc.fit_transform(application_df[cat_var]))\n",
        "\n",
        "encode_df.columns = enc.get_feature_names_out(cat_var)\n",
        "\n",
        "\n",
        "# Merge into new df\n",
        "application_df_new = application_df.merge(encode_df, left_index=True, right_index=True).drop(columns=cat_var)\n",
        "\n",
        "# SPlitting data\n",
        "y = application_df_new['IS_SUCCESSFUL']\n",
        "X = application_df_new.drop(columns=['IS_SUCCESSFUL'])\n",
        "\n",
        "X_train, X_test, y_train, y_test = train_test_split(X, y)\n",
        "\n",
        "# Scaling the data\n",
        "scaler = StandardScaler()\n",
        "\n",
        "X_scaler = scaler.fit(X_train)\n",
        "\n",
        "X_train_scaled = X_scaler.transform(X_train)\n",
        "X_test_scaled = X_scaler.transform(X_test)"
      ]
    },
    {
      "cell_type": "code",
      "execution_count": 30,
      "metadata": {},
      "outputs": [
        {
          "name": "stdout",
          "output_type": "stream",
          "text": [
            "Epoch 1/50\n",
            "804/804 [==============================] - 1s 387us/step - loss: 0.4931 - accuracy: 0.7624\n",
            "Epoch 2/50\n",
            "804/804 [==============================] - 0s 377us/step - loss: 0.4448 - accuracy: 0.7837\n",
            "Epoch 3/50\n",
            "804/804 [==============================] - 0s 420us/step - loss: 0.4407 - accuracy: 0.7863\n",
            "Epoch 4/50\n",
            "804/804 [==============================] - 0s 374us/step - loss: 0.4388 - accuracy: 0.7869\n",
            "Epoch 5/50\n",
            "792/804 [============================>.] - ETA: 0s - loss: 0.4372 - accuracy: 0.7880\n",
            "Epoch 5: saving model to checkpoints_opt3/weights.05.hdf5\n",
            "804/804 [==============================] - 0s 393us/step - loss: 0.4370 - accuracy: 0.7879\n",
            "Epoch 6/50\n",
            "804/804 [==============================] - 0s 367us/step - loss: 0.4364 - accuracy: 0.7886\n",
            "Epoch 7/50\n",
            "804/804 [==============================] - 0s 400us/step - loss: 0.4357 - accuracy: 0.7887\n",
            "Epoch 8/50\n",
            "804/804 [==============================] - 0s 369us/step - loss: 0.4345 - accuracy: 0.7900\n",
            "Epoch 9/50\n",
            "804/804 [==============================] - 0s 369us/step - loss: 0.4344 - accuracy: 0.7905\n",
            "Epoch 10/50\n",
            "780/804 [============================>.] - ETA: 0s - loss: 0.4331 - accuracy: 0.7901\n",
            "Epoch 10: saving model to checkpoints_opt3/weights.10.hdf5\n",
            "804/804 [==============================] - 0s 393us/step - loss: 0.4337 - accuracy: 0.7900\n",
            "Epoch 11/50\n",
            "804/804 [==============================] - 0s 401us/step - loss: 0.4333 - accuracy: 0.7909\n",
            "Epoch 12/50\n",
            "804/804 [==============================] - 0s 384us/step - loss: 0.4329 - accuracy: 0.7912\n",
            "Epoch 13/50\n",
            "804/804 [==============================] - 0s 392us/step - loss: 0.4323 - accuracy: 0.7906\n",
            "Epoch 14/50\n",
            "804/804 [==============================] - 0s 345us/step - loss: 0.4323 - accuracy: 0.7912\n",
            "Epoch 15/50\n",
            "781/804 [============================>.] - ETA: 0s - loss: 0.4317 - accuracy: 0.7924\n",
            "Epoch 15: saving model to checkpoints_opt3/weights.15.hdf5\n",
            "804/804 [==============================] - 0s 392us/step - loss: 0.4318 - accuracy: 0.7921\n",
            "Epoch 16/50\n",
            "804/804 [==============================] - 0s 391us/step - loss: 0.4313 - accuracy: 0.7920\n",
            "Epoch 17/50\n",
            "804/804 [==============================] - 0s 381us/step - loss: 0.4313 - accuracy: 0.7916\n",
            "Epoch 18/50\n",
            "804/804 [==============================] - 0s 378us/step - loss: 0.4308 - accuracy: 0.7927\n",
            "Epoch 19/50\n",
            "804/804 [==============================] - 0s 434us/step - loss: 0.4306 - accuracy: 0.7915\n",
            "Epoch 20/50\n",
            "773/804 [===========================>..] - ETA: 0s - loss: 0.4306 - accuracy: 0.7918\n",
            "Epoch 20: saving model to checkpoints_opt3/weights.20.hdf5\n",
            "804/804 [==============================] - 0s 398us/step - loss: 0.4305 - accuracy: 0.7920\n",
            "Epoch 21/50\n",
            "804/804 [==============================] - 0s 449us/step - loss: 0.4297 - accuracy: 0.7921\n",
            "Epoch 22/50\n",
            "804/804 [==============================] - 0s 433us/step - loss: 0.4293 - accuracy: 0.7927\n",
            "Epoch 23/50\n",
            "804/804 [==============================] - 0s 394us/step - loss: 0.4291 - accuracy: 0.7936\n",
            "Epoch 24/50\n",
            "804/804 [==============================] - 0s 399us/step - loss: 0.4285 - accuracy: 0.7924\n",
            "Epoch 25/50\n",
            "693/804 [========================>.....] - ETA: 0s - loss: 0.4281 - accuracy: 0.7923\n",
            "Epoch 25: saving model to checkpoints_opt3/weights.25.hdf5\n",
            "804/804 [==============================] - 0s 441us/step - loss: 0.4287 - accuracy: 0.7932\n",
            "Epoch 26/50\n",
            "804/804 [==============================] - 0s 391us/step - loss: 0.4286 - accuracy: 0.7935\n",
            "Epoch 27/50\n",
            "804/804 [==============================] - 0s 377us/step - loss: 0.4282 - accuracy: 0.7936\n",
            "Epoch 28/50\n",
            "804/804 [==============================] - 0s 413us/step - loss: 0.4281 - accuracy: 0.7932\n",
            "Epoch 29/50\n",
            "804/804 [==============================] - 0s 383us/step - loss: 0.4278 - accuracy: 0.7931\n",
            "Epoch 30/50\n",
            "677/804 [========================>.....] - ETA: 0s - loss: 0.4283 - accuracy: 0.7933\n",
            "Epoch 30: saving model to checkpoints_opt3/weights.30.hdf5\n",
            "804/804 [==============================] - 0s 377us/step - loss: 0.4276 - accuracy: 0.7937\n",
            "Epoch 31/50\n",
            "804/804 [==============================] - 0s 440us/step - loss: 0.4273 - accuracy: 0.7935\n",
            "Epoch 32/50\n",
            "804/804 [==============================] - 0s 374us/step - loss: 0.4273 - accuracy: 0.7930\n",
            "Epoch 33/50\n",
            "804/804 [==============================] - 0s 373us/step - loss: 0.4267 - accuracy: 0.7942\n",
            "Epoch 34/50\n",
            "804/804 [==============================] - 0s 377us/step - loss: 0.4265 - accuracy: 0.7942\n",
            "Epoch 35/50\n",
            "701/804 [=========================>....] - ETA: 0s - loss: 0.4274 - accuracy: 0.7940\n",
            "Epoch 35: saving model to checkpoints_opt3/weights.35.hdf5\n",
            "804/804 [==============================] - 0s 432us/step - loss: 0.4262 - accuracy: 0.7950\n",
            "Epoch 36/50\n",
            "804/804 [==============================] - 0s 380us/step - loss: 0.4261 - accuracy: 0.7954\n",
            "Epoch 37/50\n",
            "804/804 [==============================] - 0s 407us/step - loss: 0.4261 - accuracy: 0.7939\n",
            "Epoch 38/50\n",
            "804/804 [==============================] - 0s 414us/step - loss: 0.4258 - accuracy: 0.7940\n",
            "Epoch 39/50\n",
            "804/804 [==============================] - 0s 383us/step - loss: 0.4260 - accuracy: 0.7952\n",
            "Epoch 40/50\n",
            "790/804 [============================>.] - ETA: 0s - loss: 0.4260 - accuracy: 0.7943\n",
            "Epoch 40: saving model to checkpoints_opt3/weights.40.hdf5\n",
            "804/804 [==============================] - 0s 387us/step - loss: 0.4258 - accuracy: 0.7945\n",
            "Epoch 41/50\n",
            "804/804 [==============================] - 0s 390us/step - loss: 0.4254 - accuracy: 0.7940\n",
            "Epoch 42/50\n",
            "804/804 [==============================] - 0s 429us/step - loss: 0.4252 - accuracy: 0.7939\n",
            "Epoch 43/50\n",
            "804/804 [==============================] - 0s 393us/step - loss: 0.4250 - accuracy: 0.7947\n",
            "Epoch 44/50\n",
            "804/804 [==============================] - 0s 389us/step - loss: 0.4246 - accuracy: 0.7959\n",
            "Epoch 45/50\n",
            "744/804 [==========================>...] - ETA: 0s - loss: 0.4246 - accuracy: 0.7944\n",
            "Epoch 45: saving model to checkpoints_opt3/weights.45.hdf5\n",
            "804/804 [==============================] - 0s 419us/step - loss: 0.4250 - accuracy: 0.7942\n",
            "Epoch 46/50\n",
            "804/804 [==============================] - 0s 373us/step - loss: 0.4243 - accuracy: 0.7950\n",
            "Epoch 47/50\n",
            "804/804 [==============================] - 0s 381us/step - loss: 0.4247 - accuracy: 0.7950\n",
            "Epoch 48/50\n",
            "804/804 [==============================] - 0s 384us/step - loss: 0.4244 - accuracy: 0.7956\n",
            "Epoch 49/50\n",
            "804/804 [==============================] - 0s 404us/step - loss: 0.4242 - accuracy: 0.7948\n",
            "Epoch 50/50\n",
            "744/804 [==========================>...] - ETA: 0s - loss: 0.4236 - accuracy: 0.7970\n",
            "Epoch 50: saving model to checkpoints_opt3/weights.50.hdf5\n",
            "804/804 [==============================] - 0s 410us/step - loss: 0.4242 - accuracy: 0.7954\n",
            "268/268 - 0s - loss: 0.4532 - accuracy: 0.7841 - 149ms/epoch - 556us/step\n",
            "Loss: 0.4531584084033966, Accuracy: 0.7841399312019348\n"
          ]
        }
      ],
      "source": [
        "import os\n",
        "import time\n",
        "from tensorflow.keras.callbacks import ModelCheckpoint\n",
        "\n",
        "\n",
        "\n",
        "# Create model w/ 2 hidden layers\n",
        "number_input_features = len(X.columns)\n",
        "hidden_nodes_layer1 = 24\n",
        "hidden_nodes_layer2 = 12\n",
        "\n",
        "nn = tf.keras.models.Sequential()\n",
        "\n",
        "# First hidden layer\n",
        "nn.add(tf.keras.layers.Dense(units=hidden_nodes_layer1, input_dim=number_input_features, activation=\"relu\"))\n",
        "\n",
        "# Second hidden layer\n",
        "nn.add(tf.keras.layers.Dense(units=hidden_nodes_layer2, activation=\"relu\"))\n",
        "\n",
        "# Output layer\n",
        "nn.add(tf.keras.layers.Dense(units=1, activation=\"sigmoid\"))\n",
        "\n",
        "# Compile the model\n",
        "nn.compile(loss=\"binary_crossentropy\", optimizer=\"adam\", metrics=[\"accuracy\"])\n",
        "\n",
        "# Define the checkpoint path and filenames\n",
        "os.makedirs(\"checkpoints_opt3/\",exist_ok=True)\n",
        "checkpoint_path = \"checkpoints_opt3/weights.{epoch:02d}.hdf5\"\n",
        "\n",
        "# create callback to saves weights every 5 epochs\n",
        "cp_callback = ModelCheckpoint(\n",
        "    filepath=checkpoint_path,\n",
        "    verbose=1,\n",
        "    save_weights_only=True,\n",
        "    save_freq= int(len(X_train)/32*5))\n",
        "\n",
        "# Train the model\n",
        "fit_model = nn.fit(X_train_scaled, y_train, epochs=50,callbacks=[cp_callback])\n",
        "\n",
        "model_loss, model_accuracy = nn.evaluate(X_test_scaled,y_test,verbose=2)\n",
        "print(f\"Loss: {model_loss}, Accuracy: {model_accuracy}\")"
      ]
    },
    {
      "cell_type": "code",
      "execution_count": 31,
      "metadata": {},
      "outputs": [],
      "source": [
        "\n",
        "import kerastuner as kt\n",
        "\n",
        "\n",
        "# Create a method that creates a new Sequential model with hyperparameter options\n",
        "def create_model(hp):\n",
        "    nn_model = tf.keras.models.Sequential()\n",
        "\n",
        "    # Allow kerastuner to decide which activation function to use in hidden layers\n",
        "    activation = hp.Choice('activation',['relu','tanh','sigmoid'])\n",
        "    \n",
        "    # Allow kerastuner to decide number of neurons in first layer\n",
        "    nn_model.add(tf.keras.layers.Dense(units=hp.Int('first_units',\n",
        "        min_value=2,\n",
        "        max_value=64,\n",
        "        step=4), activation=activation, input_dim=len(X.columns)))\n",
        "\n",
        "    # Allow kerastuner to decide number of hidden layers and neurons in hidden layers\n",
        "    for i in range(hp.Int('num_layers', 1, 6)):\n",
        "        nn_model.add(tf.keras.layers.Dense(units=hp.Int('units_' + str(i),\n",
        "            min_value=2,\n",
        "            max_value=32,\n",
        "            step=4),\n",
        "            activation=activation))\n",
        "    \n",
        "    nn_model.add(tf.keras.layers.Dense(units=1, activation=\"sigmoid\"))\n",
        "\n",
        "    # Compile the model\n",
        "    nn_model.compile(loss=\"binary_crossentropy\", optimizer='adam', metrics=[\"accuracy\"])\n",
        "    \n",
        "    return nn_model\n",
        "\n"
      ]
    },
    {
      "cell_type": "code",
      "execution_count": 39,
      "metadata": {},
      "outputs": [],
      "source": [
        "tuner = kt.Hyperband(\n",
        "    create_model,\n",
        "    objective=\"val_accuracy\",\n",
        "    max_epochs=20,\n",
        "    hyperband_iterations=2,\n",
        "    directory='my_dir3')"
      ]
    },
    {
      "cell_type": "code",
      "execution_count": 40,
      "metadata": {},
      "outputs": [
        {
          "name": "stdout",
          "output_type": "stream",
          "text": [
            "Trial 60 Complete [00h 00m 13s]\n",
            "val_accuracy: 0.7853060960769653\n",
            "\n",
            "Best val_accuracy So Far: 0.7869387865066528\n",
            "Total elapsed time: 00h 04m 38s\n",
            "INFO:tensorflow:Oracle triggered exit\n"
          ]
        }
      ],
      "source": [
        "# Run the kerastuner search for best hyperparameters\n",
        "tuner.search(X_train_scaled,y_train,epochs=20,validation_data=(X_test_scaled,y_test))"
      ]
    },
    {
      "cell_type": "code",
      "execution_count": 42,
      "metadata": {},
      "outputs": [
        {
          "data": {
            "text/plain": [
              "{'activation': 'sigmoid',\n",
              " 'first_units': 26,\n",
              " 'num_layers': 5,\n",
              " 'units_0': 10,\n",
              " 'units_1': 18,\n",
              " 'units_2': 6,\n",
              " 'units_3': 2,\n",
              " 'units_4': 26,\n",
              " 'units_5': 22,\n",
              " 'tuner/epochs': 20,\n",
              " 'tuner/initial_epoch': 0,\n",
              " 'tuner/bracket': 0,\n",
              " 'tuner/round': 0}"
            ]
          },
          "execution_count": 42,
          "metadata": {},
          "output_type": "execute_result"
        }
      ],
      "source": [
        "# Get best model hyperparameters\n",
        "best_hyper = tuner.get_best_hyperparameters(1)[0]\n",
        "best_hyper.values"
      ]
    },
    {
      "cell_type": "code",
      "execution_count": 43,
      "metadata": {},
      "outputs": [
        {
          "name": "stdout",
          "output_type": "stream",
          "text": [
            "268/268 - 0s - loss: 0.4457 - accuracy: 0.7869 - 289ms/epoch - 1ms/step\n",
            "Loss: 0.4457223415374756, Accuracy: 0.7869387865066528\n"
          ]
        }
      ],
      "source": [
        "# Evaluate best model against full test data\n",
        "best_model = tuner.get_best_models(1)[0]\n",
        "model_loss, model_accuracy = best_model.evaluate(X_test_scaled,y_test,verbose=2)\n",
        "print(f\"Loss: {model_loss}, Accuracy: {model_accuracy}\")"
      ]
    },
    {
      "cell_type": "code",
      "execution_count": 44,
      "metadata": {},
      "outputs": [],
      "source": [
        "best_model.save(\"AlphabetSoupCharity_Optimized.h5\")"
      ]
    },
    {
      "cell_type": "code",
      "execution_count": 45,
      "metadata": {},
      "outputs": [
        {
          "name": "stdout",
          "output_type": "stream",
          "text": [
            " Random forest predictive accuracy: 0.764\n"
          ]
        }
      ],
      "source": [
        "from sklearn.ensemble import RandomForestClassifier\n",
        "from sklearn.metrics import accuracy_score\n",
        "# Create a random forest classifier.\n",
        "rf_model = RandomForestClassifier(n_estimators=128, random_state=78)\n",
        "\n",
        "# Fitting the model\n",
        "rf_model = rf_model.fit(X_train_scaled, y_train)\n",
        "\n",
        "# Evaluate the model\n",
        "y_pred = rf_model.predict(X_test_scaled)\n",
        "print(f\" Random forest predictive accuracy: {accuracy_score(y_test,y_pred):.3f}\")"
      ]
    },
    {
      "cell_type": "code",
      "execution_count": 46,
      "metadata": {},
      "outputs": [
        {
          "name": "stdout",
          "output_type": "stream",
          "text": [
            " SVM model accuracy: 0.772\n"
          ]
        }
      ],
      "source": [
        "from sklearn.svm import SVC\n",
        "\n",
        "# Create the SVM model\n",
        "svm = SVC(kernel='linear')\n",
        "\n",
        "# Train the model\n",
        "svm.fit(X_train_scaled, y_train)\n",
        "\n",
        "# Evaluate the model\n",
        "y_pred = svm.predict(X_test_scaled)\n",
        "print(f\" SVM model accuracy: {accuracy_score(y_test,y_pred):.3f}\")"
      ]
    }
  ],
  "metadata": {
    "colab": {
      "provenance": []
    },
    "kernelspec": {
      "display_name": "mlenv_forge",
      "language": "python",
      "name": "python3"
    },
    "language_info": {
      "codemirror_mode": {
        "name": "ipython",
        "version": 3
      },
      "file_extension": ".py",
      "mimetype": "text/x-python",
      "name": "python",
      "nbconvert_exporter": "python",
      "pygments_lexer": "ipython3",
      "version": "3.8.16"
    }
  },
  "nbformat": 4,
  "nbformat_minor": 0
}
